{
 "cells": [
  {
   "cell_type": "markdown",
   "metadata": {
    "slideshow": {
     "slide_type": "slide"
    }
   },
   "source": [
    "# Credit risk model."
   ]
  },
  {
   "cell_type": "markdown",
   "metadata": {
    "slideshow": {
     "slide_type": "slide"
    }
   },
   "source": [
    "## 1. Import modules"
   ]
  },
  {
   "cell_type": "code",
   "execution_count": 73,
   "metadata": {
    "slideshow": {
     "slide_type": "subslide"
    }
   },
   "outputs": [],
   "source": [
    "\n",
    "import pandas as pd\n",
    "from sklearn.model_selection import train_test_split\n",
    "import numpy as np\n",
    "import statsmodels.formula.api as smf\n",
    "from sklearn.metrics import accuracy_score, confusion_matrix\n",
    "from xgboost import XGBClassifier\n",
    "from xgboost import plot_importance\n",
    "from sklearn.preprocessing import OneHotEncoder\n",
    "from sklearn.pipeline import Pipeline\n",
    "from sklearn.impute import SimpleImputer\n",
    "from sklearn.compose import ColumnTransformer\n",
    "from sklearn.feature_selection import SelectPercentile, chi2\n",
    "from sklearn.model_selection import cross_val_score\n",
    "import seaborn as sns\n",
    "import matplotlib.pyplot as plt"
   ]
  },
  {
   "cell_type": "markdown",
   "metadata": {
    "slideshow": {
     "slide_type": "slide"
    }
   },
   "source": [
    "# 2. Read the data and understand the data"
   ]
  },
  {
   "cell_type": "code",
   "execution_count": 12,
   "metadata": {
    "slideshow": {
     "slide_type": "subslide"
    }
   },
   "outputs": [
    {
     "data": {
      "text/html": [
       "<div>\n",
       "<style scoped>\n",
       "    .dataframe tbody tr th:only-of-type {\n",
       "        vertical-align: middle;\n",
       "    }\n",
       "\n",
       "    .dataframe tbody tr th {\n",
       "        vertical-align: top;\n",
       "    }\n",
       "\n",
       "    .dataframe thead th {\n",
       "        text-align: right;\n",
       "    }\n",
       "</style>\n",
       "<table border=\"1\" class=\"dataframe\">\n",
       "  <thead>\n",
       "    <tr style=\"text-align: right;\">\n",
       "      <th></th>\n",
       "      <th>person_age</th>\n",
       "      <th>person_income</th>\n",
       "      <th>person_home_ownership</th>\n",
       "      <th>person_emp_length</th>\n",
       "      <th>loan_intent</th>\n",
       "      <th>loan_grade</th>\n",
       "      <th>loan_amnt</th>\n",
       "      <th>loan_int_rate</th>\n",
       "      <th>loan_status</th>\n",
       "      <th>loan_percent_income</th>\n",
       "      <th>cb_person_default_on_file</th>\n",
       "      <th>cb_person_cred_hist_length</th>\n",
       "    </tr>\n",
       "  </thead>\n",
       "  <tbody>\n",
       "    <tr>\n",
       "      <th>0</th>\n",
       "      <td>22</td>\n",
       "      <td>59000</td>\n",
       "      <td>RENT</td>\n",
       "      <td>123.0</td>\n",
       "      <td>PERSONAL</td>\n",
       "      <td>D</td>\n",
       "      <td>35000</td>\n",
       "      <td>16.02</td>\n",
       "      <td>1</td>\n",
       "      <td>0.59</td>\n",
       "      <td>Y</td>\n",
       "      <td>3</td>\n",
       "    </tr>\n",
       "    <tr>\n",
       "      <th>1</th>\n",
       "      <td>21</td>\n",
       "      <td>9600</td>\n",
       "      <td>OWN</td>\n",
       "      <td>5.0</td>\n",
       "      <td>EDUCATION</td>\n",
       "      <td>B</td>\n",
       "      <td>1000</td>\n",
       "      <td>11.14</td>\n",
       "      <td>0</td>\n",
       "      <td>0.10</td>\n",
       "      <td>N</td>\n",
       "      <td>2</td>\n",
       "    </tr>\n",
       "    <tr>\n",
       "      <th>2</th>\n",
       "      <td>25</td>\n",
       "      <td>9600</td>\n",
       "      <td>MORTGAGE</td>\n",
       "      <td>1.0</td>\n",
       "      <td>MEDICAL</td>\n",
       "      <td>C</td>\n",
       "      <td>5500</td>\n",
       "      <td>12.87</td>\n",
       "      <td>1</td>\n",
       "      <td>0.57</td>\n",
       "      <td>N</td>\n",
       "      <td>3</td>\n",
       "    </tr>\n",
       "    <tr>\n",
       "      <th>3</th>\n",
       "      <td>23</td>\n",
       "      <td>65500</td>\n",
       "      <td>RENT</td>\n",
       "      <td>4.0</td>\n",
       "      <td>MEDICAL</td>\n",
       "      <td>C</td>\n",
       "      <td>35000</td>\n",
       "      <td>15.23</td>\n",
       "      <td>1</td>\n",
       "      <td>0.53</td>\n",
       "      <td>N</td>\n",
       "      <td>2</td>\n",
       "    </tr>\n",
       "    <tr>\n",
       "      <th>4</th>\n",
       "      <td>24</td>\n",
       "      <td>54400</td>\n",
       "      <td>RENT</td>\n",
       "      <td>8.0</td>\n",
       "      <td>MEDICAL</td>\n",
       "      <td>C</td>\n",
       "      <td>35000</td>\n",
       "      <td>14.27</td>\n",
       "      <td>1</td>\n",
       "      <td>0.55</td>\n",
       "      <td>Y</td>\n",
       "      <td>4</td>\n",
       "    </tr>\n",
       "  </tbody>\n",
       "</table>\n",
       "</div>"
      ],
      "text/plain": [
       "   person_age  person_income person_home_ownership  person_emp_length  \\\n",
       "0          22          59000                  RENT              123.0   \n",
       "1          21           9600                   OWN                5.0   \n",
       "2          25           9600              MORTGAGE                1.0   \n",
       "3          23          65500                  RENT                4.0   \n",
       "4          24          54400                  RENT                8.0   \n",
       "\n",
       "  loan_intent loan_grade  loan_amnt  loan_int_rate  loan_status  \\\n",
       "0    PERSONAL          D      35000          16.02            1   \n",
       "1   EDUCATION          B       1000          11.14            0   \n",
       "2     MEDICAL          C       5500          12.87            1   \n",
       "3     MEDICAL          C      35000          15.23            1   \n",
       "4     MEDICAL          C      35000          14.27            1   \n",
       "\n",
       "   loan_percent_income cb_person_default_on_file  cb_person_cred_hist_length  \n",
       "0                 0.59                         Y                           3  \n",
       "1                 0.10                         N                           2  \n",
       "2                 0.57                         N                           3  \n",
       "3                 0.53                         N                           2  \n",
       "4                 0.55                         Y                           4  "
      ]
     },
     "execution_count": 12,
     "metadata": {},
     "output_type": "execute_result"
    }
   ],
   "source": [
    "#read the dataset\n",
    "data = pd.read_csv(\"credit_risk_dataset.csv\")\n",
    "data.head()\n",
    "\n"
   ]
  },
  {
   "cell_type": "code",
   "execution_count": null,
   "metadata": {
    "slideshow": {
     "slide_type": "fragment"
    }
   },
   "outputs": [],
   "source": [
    "#In this dataset, we do not have an ID to define each customer uniquely. Therefore, we can assume that each row is independent and we will not remove duplicates, as this can be useful information."
   ]
  },
  {
   "cell_type": "code",
   "execution_count": 343,
   "metadata": {
    "slideshow": {
     "slide_type": "subslide"
    }
   },
   "outputs": [
    {
     "name": "stdout",
     "output_type": "stream",
     "text": [
      "<class 'pandas.core.frame.DataFrame'>\n",
      "RangeIndex: 32581 entries, 0 to 32580\n",
      "Data columns (total 12 columns):\n",
      " #   Column                      Non-Null Count  Dtype  \n",
      "---  ------                      --------------  -----  \n",
      " 0   person_age                  32581 non-null  int64  \n",
      " 1   person_income               32581 non-null  int64  \n",
      " 2   person_home_ownership       32581 non-null  object \n",
      " 3   person_emp_length           31686 non-null  float64\n",
      " 4   loan_intent                 32581 non-null  object \n",
      " 5   loan_grade                  32581 non-null  object \n",
      " 6   loan_amnt                   32581 non-null  int64  \n",
      " 7   loan_int_rate               29465 non-null  float64\n",
      " 8   loan_status                 32581 non-null  int64  \n",
      " 9   loan_percent_income         32581 non-null  float64\n",
      " 10  cb_person_default_on_file   32581 non-null  object \n",
      " 11  cb_person_cred_hist_length  32581 non-null  int64  \n",
      "dtypes: float64(3), int64(5), object(4)\n",
      "memory usage: 3.0+ MB\n"
     ]
    }
   ],
   "source": [
    "#info about the variables\n",
    "data.info()"
   ]
  },
  {
   "cell_type": "code",
   "execution_count": 49,
   "metadata": {
    "slideshow": {
     "slide_type": "slide"
    }
   },
   "outputs": [
    {
     "data": {
      "text/plain": [
       "<AxesSubplot:xlabel='loan_status', ylabel='count'>"
      ]
     },
     "execution_count": 49,
     "metadata": {},
     "output_type": "execute_result"
    },
    {
     "data": {
      "image/png": "[encoded data removed]",
      "text/plain": [
       "<Figure size 576x576 with 1 Axes>"
      ]
     },
     "metadata": {
      "needs_background": "light"
     },
     "output_type": "display_data"
    }
   ],
   "source": [
    "\n",
    "#Check the proportion of defaults\n",
    "data.groupby(['loan_status']).size()/data.shape[0]\n",
    "plt.figure(figsize=(8,8))\n",
    "sns.countplot(x=data[\"loan_status\"])\n"
   ]
  },
  {
   "cell_type": "markdown",
   "metadata": {
    "slideshow": {
     "slide_type": "slide"
    }
   },
   "source": [
    "# 3. Data preparation"
   ]
  },
  {
   "cell_type": "code",
   "execution_count": 281,
   "metadata": {
    "slideshow": {
     "slide_type": "slide"
    }
   },
   "outputs": [],
   "source": [
    "# Split the data into train and test sample. \n",
    "X = data.drop('loan_status', axis=1)\n",
    "X.shape\n",
    "y = data['loan_status']\n",
    "X_train, X_test, y_train, y_test = train_test_split(\n",
    "X, y, test_size=0.2, random_state=42)"
   ]
  },
  {
   "cell_type": "code",
   "execution_count": 345,
   "metadata": {
    "slideshow": {
     "slide_type": "subslide"
    }
   },
   "outputs": [
    {
     "data": {
      "text/html": [
       "<div>\n",
       "<style scoped>\n",
       "    .dataframe tbody tr th:only-of-type {\n",
       "        vertical-align: middle;\n",
       "    }\n",
       "\n",
       "    .dataframe tbody tr th {\n",
       "        vertical-align: top;\n",
       "    }\n",
       "\n",
       "    .dataframe thead th {\n",
       "        text-align: right;\n",
       "    }\n",
       "</style>\n",
       "<table border=\"1\" class=\"dataframe\">\n",
       "  <thead>\n",
       "    <tr style=\"text-align: right;\">\n",
       "      <th></th>\n",
       "      <th>person_age</th>\n",
       "      <th>person_income</th>\n",
       "      <th>person_emp_length</th>\n",
       "      <th>loan_amnt</th>\n",
       "      <th>loan_int_rate</th>\n",
       "      <th>loan_percent_income</th>\n",
       "      <th>cb_person_cred_hist_length</th>\n",
       "    </tr>\n",
       "  </thead>\n",
       "  <tbody>\n",
       "    <tr>\n",
       "      <th>count</th>\n",
       "      <td>26064.000000</td>\n",
       "      <td>2.606400e+04</td>\n",
       "      <td>25347.000000</td>\n",
       "      <td>26064.000000</td>\n",
       "      <td>23585.000000</td>\n",
       "      <td>26064.000000</td>\n",
       "      <td>26064.000000</td>\n",
       "    </tr>\n",
       "    <tr>\n",
       "      <th>mean</th>\n",
       "      <td>27.764695</td>\n",
       "      <td>6.617184e+04</td>\n",
       "      <td>4.787233</td>\n",
       "      <td>9601.073320</td>\n",
       "      <td>11.010116</td>\n",
       "      <td>0.170446</td>\n",
       "      <td>5.816720</td>\n",
       "    </tr>\n",
       "    <tr>\n",
       "      <th>std</th>\n",
       "      <td>6.392500</td>\n",
       "      <td>6.359933e+04</td>\n",
       "      <td>4.109243</td>\n",
       "      <td>6315.753396</td>\n",
       "      <td>3.228901</td>\n",
       "      <td>0.106991</td>\n",
       "      <td>4.054342</td>\n",
       "    </tr>\n",
       "    <tr>\n",
       "      <th>min</th>\n",
       "      <td>20.000000</td>\n",
       "      <td>4.000000e+03</td>\n",
       "      <td>0.000000</td>\n",
       "      <td>500.000000</td>\n",
       "      <td>5.420000</td>\n",
       "      <td>0.000000</td>\n",
       "      <td>2.000000</td>\n",
       "    </tr>\n",
       "    <tr>\n",
       "      <th>25%</th>\n",
       "      <td>23.000000</td>\n",
       "      <td>3.900000e+04</td>\n",
       "      <td>2.000000</td>\n",
       "      <td>5000.000000</td>\n",
       "      <td>7.900000</td>\n",
       "      <td>0.090000</td>\n",
       "      <td>3.000000</td>\n",
       "    </tr>\n",
       "    <tr>\n",
       "      <th>50%</th>\n",
       "      <td>26.000000</td>\n",
       "      <td>5.500000e+04</td>\n",
       "      <td>4.000000</td>\n",
       "      <td>8000.000000</td>\n",
       "      <td>10.990000</td>\n",
       "      <td>0.150000</td>\n",
       "      <td>4.000000</td>\n",
       "    </tr>\n",
       "    <tr>\n",
       "      <th>75%</th>\n",
       "      <td>30.000000</td>\n",
       "      <td>7.950000e+04</td>\n",
       "      <td>7.000000</td>\n",
       "      <td>12250.000000</td>\n",
       "      <td>13.470000</td>\n",
       "      <td>0.230000</td>\n",
       "      <td>8.000000</td>\n",
       "    </tr>\n",
       "    <tr>\n",
       "      <th>max</th>\n",
       "      <td>144.000000</td>\n",
       "      <td>6.000000e+06</td>\n",
       "      <td>123.000000</td>\n",
       "      <td>35000.000000</td>\n",
       "      <td>22.480000</td>\n",
       "      <td>0.780000</td>\n",
       "      <td>30.000000</td>\n",
       "    </tr>\n",
       "  </tbody>\n",
       "</table>\n",
       "</div>"
      ],
      "text/plain": [
       "         person_age  person_income  person_emp_length     loan_amnt  \\\n",
       "count  26064.000000   2.606400e+04       25347.000000  26064.000000   \n",
       "mean      27.764695   6.617184e+04           4.787233   9601.073320   \n",
       "std        6.392500   6.359933e+04           4.109243   6315.753396   \n",
       "min       20.000000   4.000000e+03           0.000000    500.000000   \n",
       "25%       23.000000   3.900000e+04           2.000000   5000.000000   \n",
       "50%       26.000000   5.500000e+04           4.000000   8000.000000   \n",
       "75%       30.000000   7.950000e+04           7.000000  12250.000000   \n",
       "max      144.000000   6.000000e+06         123.000000  35000.000000   \n",
       "\n",
       "       loan_int_rate  loan_percent_income  cb_person_cred_hist_length  \n",
       "count   23585.000000         26064.000000                26064.000000  \n",
       "mean       11.010116             0.170446                    5.816720  \n",
       "std         3.228901             0.106991                    4.054342  \n",
       "min         5.420000             0.000000                    2.000000  \n",
       "25%         7.900000             0.090000                    3.000000  \n",
       "50%        10.990000             0.150000                    4.000000  \n",
       "75%        13.470000             0.230000                    8.000000  \n",
       "max        22.480000             0.780000                   30.000000  "
      ]
     },
     "execution_count": 345,
     "metadata": {},
     "output_type": "execute_result"
    }
   ],
   "source": [
    "\n",
    "X_train.describe()"
   ]
  },
  {
   "cell_type": "markdown",
   "metadata": {
    "slideshow": {
     "slide_type": "slide"
    }
   },
   "source": [
    "## 3.1 Dealing with NA's."
   ]
  },
  {
   "cell_type": "code",
   "execution_count": 347,
   "metadata": {
    "slideshow": {
     "slide_type": "subslide"
    }
   },
   "outputs": [
    {
     "data": {
      "text/plain": [
       "person_age                    0.00\n",
       "person_income                 0.00\n",
       "person_home_ownership         0.00\n",
       "person_emp_length             2.75\n",
       "loan_intent                   0.00\n",
       "loan_grade                    0.00\n",
       "loan_amnt                     0.00\n",
       "loan_int_rate                 9.56\n",
       "loan_status                   0.00\n",
       "loan_percent_income           0.00\n",
       "cb_person_default_on_file     0.00\n",
       "cb_person_cred_hist_length    0.00\n",
       "dtype: float64"
      ]
     },
     "execution_count": 347,
     "metadata": {},
     "output_type": "execute_result"
    }
   ],
   "source": [
    "#First, we need to check the proportion of NA's \n",
    "def missing(df):\n",
    "    return round(df.isnull().sum()/df.shape[0]*100,2)\n",
    "\n",
    "missing(data)\n"
   ]
  },
  {
   "cell_type": "code",
   "execution_count": 177,
   "metadata": {
    "slideshow": {
     "slide_type": "slide"
    }
   },
   "outputs": [
    {
     "data": {
      "text/html": [
       "<div>\n",
       "<style scoped>\n",
       "    .dataframe tbody tr th:only-of-type {\n",
       "        vertical-align: middle;\n",
       "    }\n",
       "\n",
       "    .dataframe tbody tr th {\n",
       "        vertical-align: top;\n",
       "    }\n",
       "\n",
       "    .dataframe thead th {\n",
       "        text-align: right;\n",
       "    }\n",
       "</style>\n",
       "<table border=\"1\" class=\"dataframe\">\n",
       "  <thead>\n",
       "    <tr style=\"text-align: right;\">\n",
       "      <th></th>\n",
       "      <th>person_age</th>\n",
       "      <th>person_income</th>\n",
       "      <th>person_emp_length</th>\n",
       "      <th>loan_amnt</th>\n",
       "      <th>loan_int_rate</th>\n",
       "      <th>loan_status</th>\n",
       "      <th>loan_percent_income</th>\n",
       "      <th>cb_person_cred_hist_length</th>\n",
       "    </tr>\n",
       "  </thead>\n",
       "  <tbody>\n",
       "    <tr>\n",
       "      <th>count</th>\n",
       "      <td>3116.000000</td>\n",
       "      <td>3.116000e+03</td>\n",
       "      <td>3048.000000</td>\n",
       "      <td>3116.000000</td>\n",
       "      <td>0.0</td>\n",
       "      <td>3116.000000</td>\n",
       "      <td>3116.000000</td>\n",
       "      <td>3116.000000</td>\n",
       "    </tr>\n",
       "    <tr>\n",
       "      <th>mean</th>\n",
       "      <td>27.922657</td>\n",
       "      <td>6.658905e+04</td>\n",
       "      <td>4.799213</td>\n",
       "      <td>9633.119384</td>\n",
       "      <td>NaN</td>\n",
       "      <td>0.206675</td>\n",
       "      <td>0.171088</td>\n",
       "      <td>5.955071</td>\n",
       "    </tr>\n",
       "    <tr>\n",
       "      <th>std</th>\n",
       "      <td>6.782386</td>\n",
       "      <td>6.275810e+04</td>\n",
       "      <td>4.028823</td>\n",
       "      <td>6377.661049</td>\n",
       "      <td>NaN</td>\n",
       "      <td>0.404985</td>\n",
       "      <td>0.105870</td>\n",
       "      <td>4.264216</td>\n",
       "    </tr>\n",
       "    <tr>\n",
       "      <th>min</th>\n",
       "      <td>20.000000</td>\n",
       "      <td>4.888000e+03</td>\n",
       "      <td>0.000000</td>\n",
       "      <td>500.000000</td>\n",
       "      <td>NaN</td>\n",
       "      <td>0.000000</td>\n",
       "      <td>0.000000</td>\n",
       "      <td>2.000000</td>\n",
       "    </tr>\n",
       "    <tr>\n",
       "      <th>25%</th>\n",
       "      <td>23.000000</td>\n",
       "      <td>3.850000e+04</td>\n",
       "      <td>2.000000</td>\n",
       "      <td>5000.000000</td>\n",
       "      <td>NaN</td>\n",
       "      <td>0.000000</td>\n",
       "      <td>0.090000</td>\n",
       "      <td>3.000000</td>\n",
       "    </tr>\n",
       "    <tr>\n",
       "      <th>50%</th>\n",
       "      <td>26.000000</td>\n",
       "      <td>5.564000e+04</td>\n",
       "      <td>4.000000</td>\n",
       "      <td>8000.000000</td>\n",
       "      <td>NaN</td>\n",
       "      <td>0.000000</td>\n",
       "      <td>0.150000</td>\n",
       "      <td>4.000000</td>\n",
       "    </tr>\n",
       "    <tr>\n",
       "      <th>75%</th>\n",
       "      <td>30.000000</td>\n",
       "      <td>8.000000e+04</td>\n",
       "      <td>7.000000</td>\n",
       "      <td>12000.000000</td>\n",
       "      <td>NaN</td>\n",
       "      <td>0.000000</td>\n",
       "      <td>0.230000</td>\n",
       "      <td>8.000000</td>\n",
       "    </tr>\n",
       "    <tr>\n",
       "      <th>max</th>\n",
       "      <td>123.000000</td>\n",
       "      <td>1.900000e+06</td>\n",
       "      <td>28.000000</td>\n",
       "      <td>35000.000000</td>\n",
       "      <td>NaN</td>\n",
       "      <td>1.000000</td>\n",
       "      <td>0.630000</td>\n",
       "      <td>30.000000</td>\n",
       "    </tr>\n",
       "  </tbody>\n",
       "</table>\n",
       "</div>"
      ],
      "text/plain": [
       "        person_age  person_income  person_emp_length     loan_amnt  \\\n",
       "count  3116.000000   3.116000e+03        3048.000000   3116.000000   \n",
       "mean     27.922657   6.658905e+04           4.799213   9633.119384   \n",
       "std       6.782386   6.275810e+04           4.028823   6377.661049   \n",
       "min      20.000000   4.888000e+03           0.000000    500.000000   \n",
       "25%      23.000000   3.850000e+04           2.000000   5000.000000   \n",
       "50%      26.000000   5.564000e+04           4.000000   8000.000000   \n",
       "75%      30.000000   8.000000e+04           7.000000  12000.000000   \n",
       "max     123.000000   1.900000e+06          28.000000  35000.000000   \n",
       "\n",
       "       loan_int_rate  loan_status  loan_percent_income  \\\n",
       "count            0.0  3116.000000          3116.000000   \n",
       "mean             NaN     0.206675             0.171088   \n",
       "std              NaN     0.404985             0.105870   \n",
       "min              NaN     0.000000             0.000000   \n",
       "25%              NaN     0.000000             0.090000   \n",
       "50%              NaN     0.000000             0.150000   \n",
       "75%              NaN     0.000000             0.230000   \n",
       "max              NaN     1.000000             0.630000   \n",
       "\n",
       "       cb_person_cred_hist_length  \n",
       "count                 3116.000000  \n",
       "mean                     5.955071  \n",
       "std                      4.264216  \n",
       "min                      2.000000  \n",
       "25%                      3.000000  \n",
       "50%                      4.000000  \n",
       "75%                      8.000000  \n",
       "max                     30.000000  "
      ]
     },
     "execution_count": 177,
     "metadata": {},
     "output_type": "execute_result"
    }
   ],
   "source": [
    "\n",
    "#We need to determine what we are going to do with the NA's. We should study whether actually finding an NA in one of the explanatory variables gives us information about whether the customer is more likely to be a defaulter.\n",
    "data[data['loan_int_rate'].isnull()].describe()\n",
    "\n",
    "# The mean of the dependent variable for the 3116 records where the variable loan_int_rate is null, it is 0.20 which is similar to the average default rate of the entire sample, concluding that we aren't excluding some relevant information for the detection of defaulters."
   ]
  },
  {
   "cell_type": "code",
   "execution_count": 18,
   "metadata": {
    "slideshow": {
     "slide_type": "slide"
    }
   },
   "outputs": [
    {
     "name": "stderr",
     "output_type": "stream",
     "text": [
      "/mnt/anaconda/lib/python3.7/site-packages/ipykernel_launcher.py:5: SettingWithCopyWarning: \n",
      "A value is trying to be set on a copy of a slice from a DataFrame.\n",
      "Try using .loc[row_indexer,col_indexer] = value instead\n",
      "\n",
      "See the caveats in the documentation: https://pandas.pydata.org/pandas-docs/stable/user_guide/indexing.html#returning-a-view-versus-a-copy\n",
      "  \"\"\"\n",
      "/mnt/anaconda/lib/python3.7/site-packages/ipykernel_launcher.py:8: SettingWithCopyWarning: \n",
      "A value is trying to be set on a copy of a slice from a DataFrame.\n",
      "Try using .loc[row_indexer,col_indexer] = value instead\n",
      "\n",
      "See the caveats in the documentation: https://pandas.pydata.org/pandas-docs/stable/user_guide/indexing.html#returning-a-view-versus-a-copy\n",
      "  \n"
     ]
    }
   ],
   "source": [
    "# Some models don't allow NA in the independent variables so we will need to input a value where we have a NA. Therefore, we are going to create two new variables and we are going to study the behaviour of both of them. The first one will be equal to the loan_int_rate and the null values will be replaced by the average of loan_int_rate and the second one will be identical but changing the null values for 0.\n",
    "X_train.loan_int_rate.mean()\n",
    "X_train['mean_loan_interest'] = np.where(\n",
    "X_train['loan_int_rate'].isnull, \n",
    "X_train[\"loan_int_rate\"].fillna(value=X_train[\"loan_int_rate\"].mean()),   X_train['loan_int_rate'])\n",
    "X_train['0_loan_interest'] = np.where(\n",
    "X_train['loan_int_rate'].isnull, \n",
    "X_train[\"loan_int_rate\"].fillna(value=0),   X_train['loan_int_rate'])"
   ]
  },
  {
   "cell_type": "markdown",
   "metadata": {
    "slideshow": {
     "slide_type": "slide"
    }
   },
   "source": [
    "# 4. Univariate analysis\n",
    "## We are going to estimate the predictive power of the variables individually"
   ]
  },
  {
   "cell_type": "code",
   "execution_count": 14,
   "metadata": {
    "slideshow": {
     "slide_type": "slide"
    }
   },
   "outputs": [],
   "source": [
    "#IV and WOE of the variables\n",
    "\n",
    "def iv_woe(data, target, bins=10, show_woe=False):\n",
    "    \n",
    "    #Empty Dataframe\n",
    "    newDF,woeDF = pd.DataFrame(), pd.DataFrame()\n",
    "    \n",
    "    #Extract Column Names\n",
    "    cols = data.columns\n",
    "    \n",
    "    #Run WOE and IV on all the independent variables\n",
    "    for ivars in cols[~cols.isin([target])]:\n",
    "        if (data[ivars].dtype.kind in 'bifc') and (len(np.unique(data[ivars]))>10):\n",
    "            binned_x = pd.qcut(data[ivars], bins,  duplicates='drop')\n",
    "            d0 = pd.DataFrame({'x': binned_x, 'y': data[target]})\n",
    "        else:\n",
    "            d0 = pd.DataFrame({'x': data[ivars], 'y': data[target]})\n",
    "\n",
    "        \n",
    "        # Calculate the number of events in each group (bin)\n",
    "        d = d0.groupby(\"x\", as_index=False).agg({\"y\": [\"count\", \"sum\"]})\n",
    "        d.columns = ['Cutoff', 'N', 'Events']\n",
    "        \n",
    "        # Calculate % of events in each group.\n",
    "        d['% of Events'] = np.maximum(d['Events'], 0.5) / d['Events'].sum()\n",
    "\n",
    "        # Calculate the non events in each group.\n",
    "        d['Non-Events'] = d['N'] - d['Events']\n",
    "        # Calculate % of non events in each group.\n",
    "        d['% of Non-Events'] = np.maximum(d['Non-Events'], 0.5) / d['Non-Events'].sum()\n",
    "\n",
    "        # Calculate WOE by taking natural log of division of % of non-events and % of events\n",
    "        d['WoE'] = np.log(d['% of Events']/d['% of Non-Events'])\n",
    "        d['IV'] = d['WoE'] * (d['% of Events'] - d['% of Non-Events'])\n",
    "        d.insert(loc=0, column='Variable', value=ivars)\n",
    "        print(\"Information value of \" + ivars + \" is \" + str(round(d['IV'].sum(),6)))\n",
    "        temp =pd.DataFrame({\"Variable\" : [ivars], \"IV\" : [d['IV'].sum()]}, columns = [\"Variable\", \"IV\"])\n",
    "        newDF=pd.concat([newDF,temp], axis=0)\n",
    "        woeDF=pd.concat([woeDF,d], axis=0)\n",
    "\n",
    "        #Show WOE Table\n",
    "        if show_woe == True:\n",
    "            print(d)\n",
    "    return newDF, woeDF"
   ]
  },
  {
   "cell_type": "code",
   "execution_count": 19,
   "metadata": {
    "slideshow": {
     "slide_type": "slide"
    }
   },
   "outputs": [
    {
     "name": "stdout",
     "output_type": "stream",
     "text": [
      "Information value of person_age is 0.00948\n",
      "Information value of person_income is 0.464682\n",
      "Information value of person_home_ownership is 0.378239\n",
      "Information value of person_emp_length is 0.057632\n",
      "Information value of loan_intent is 0.089566\n",
      "Information value of loan_grade is 0.868905\n",
      "Information value of loan_amnt is 0.092895\n",
      "Information value of loan_int_rate is 0.72067\n",
      "Information value of loan_percent_income is 0.90951\n",
      "Information value of cb_person_default_on_file is 0.160981\n",
      "Information value of cb_person_cred_hist_length is 0.003007\n",
      "Information value of mean_loan_interest is 0.626998\n",
      "Information value of 0_loan_interest is 0.613674\n"
     ]
    },
    {
     "data": {
      "text/plain": [
       "(                     Variable        IV\n",
       " 0                  person_age  0.009480\n",
       " 0               person_income  0.464682\n",
       " 0       person_home_ownership  0.378239\n",
       " 0           person_emp_length  0.057632\n",
       " 0                 loan_intent  0.089566\n",
       " 0                  loan_grade  0.868905\n",
       " 0                   loan_amnt  0.092895\n",
       " 0               loan_int_rate  0.720670\n",
       " 0         loan_percent_income  0.909510\n",
       " 0   cb_person_default_on_file  0.160981\n",
       " 0  cb_person_cred_hist_length  0.003007\n",
       " 0          mean_loan_interest  0.626998\n",
       " 0             0_loan_interest  0.613674,\n",
       "            Variable          Cutoff     N  Events  % of Events  Non-Events  \\\n",
       " 0        person_age  (19.999, 22.0]  3880     993     0.175349        2887   \n",
       " 1        person_age    (22.0, 23.0]  3124     674     0.119018        2450   \n",
       " 2        person_age    (23.0, 24.0]  2829     600     0.105951        2229   \n",
       " 3        person_age    (24.0, 25.0]  2415     528     0.093237        1887   \n",
       " 4        person_age    (25.0, 26.0]  1966     409     0.072223        1557   \n",
       " ..              ...             ...   ...     ...          ...         ...   \n",
       " 5   0_loan_interest  (10.62, 11.49]  2761     455     0.080346        2306   \n",
       " 6   0_loan_interest  (11.49, 12.68]  2499     459     0.081052        2040   \n",
       " 7   0_loan_interest  (12.68, 13.61]  2603     551     0.097298        2052   \n",
       " 8   0_loan_interest  (13.61, 15.21]  2535     967     0.170758        1568   \n",
       " 9   0_loan_interest  (15.21, 22.48]  2584    1486     0.262405        1098   \n",
       " \n",
       "     % of Non-Events       WoE        IV  \n",
       " 0          0.141513  0.214388  0.007254  \n",
       " 1          0.120092 -0.008983  0.000010  \n",
       " 2          0.109259 -0.030749  0.000102  \n",
       " 3          0.092495  0.007983  0.000006  \n",
       " 4          0.076320 -0.055171  0.000226  \n",
       " ..              ...       ...       ...  \n",
       " 5          0.113034 -0.341342  0.011158  \n",
       " 6          0.099995 -0.210025  0.003978  \n",
       " 7          0.100583 -0.033205  0.000109  \n",
       " 8          0.076859  0.798272  0.074957  \n",
       " 9          0.053821  1.584228  0.330445  \n",
       " \n",
       " [105 rows x 9 columns])"
      ]
     },
     "execution_count": 19,
     "metadata": {},
     "output_type": "execute_result"
    }
   ],
   "source": [
    "new_data = pd.concat([X_train,y_train],axis=1)\n",
    "new_data.head()\n",
    "iv_woe(new_data, 'loan_status', bins=10, show_woe=False)"
   ]
  },
  {
   "cell_type": "markdown",
   "metadata": {
    "slideshow": {
     "slide_type": "slide"
    }
   },
   "source": [
    "# 5. Multivariate model"
   ]
  },
  {
   "cell_type": "markdown",
   "metadata": {
    "slideshow": {
     "slide_type": "slide"
    }
   },
   "source": [
    "## It seems that the loan_int_rate has a higher IV than the one we have created, so we will use this variable for the final model. Some variables are not accurate in describing customer behaviour. We will also exclude from the final model all variables with an IV lower than 0.2."
   ]
  },
  {
   "cell_type": "markdown",
   "metadata": {
    "slideshow": {
     "slide_type": "slide"
    }
   },
   "source": [
    "# 5.1. Logistic regression\n",
    "\n",
    "\n"
   ]
  },
  {
   "cell_type": "code",
   "execution_count": 20,
   "metadata": {
    "slideshow": {
     "slide_type": "slide"
    }
   },
   "outputs": [
    {
     "data": {
      "text/html": [
       "<div>\n",
       "<style scoped>\n",
       "    .dataframe tbody tr th:only-of-type {\n",
       "        vertical-align: middle;\n",
       "    }\n",
       "\n",
       "    .dataframe tbody tr th {\n",
       "        vertical-align: top;\n",
       "    }\n",
       "\n",
       "    .dataframe thead th {\n",
       "        text-align: right;\n",
       "    }\n",
       "</style>\n",
       "<table border=\"1\" class=\"dataframe\">\n",
       "  <thead>\n",
       "    <tr style=\"text-align: right;\">\n",
       "      <th></th>\n",
       "      <th>person_income</th>\n",
       "      <th>loan_percent_income</th>\n",
       "      <th>mean_loan_interest</th>\n",
       "      <th>0_loan_interest</th>\n",
       "    </tr>\n",
       "  </thead>\n",
       "  <tbody>\n",
       "    <tr>\n",
       "      <th>person_income</th>\n",
       "      <td>1.000000</td>\n",
       "      <td>-0.250572</td>\n",
       "      <td>-0.000707</td>\n",
       "      <td>-0.002669</td>\n",
       "    </tr>\n",
       "    <tr>\n",
       "      <th>loan_percent_income</th>\n",
       "      <td>-0.250572</td>\n",
       "      <td>1.000000</td>\n",
       "      <td>0.114840</td>\n",
       "      <td>0.076004</td>\n",
       "    </tr>\n",
       "    <tr>\n",
       "      <th>mean_loan_interest</th>\n",
       "      <td>-0.000707</td>\n",
       "      <td>0.114840</td>\n",
       "      <td>1.000000</td>\n",
       "      <td>0.689093</td>\n",
       "    </tr>\n",
       "    <tr>\n",
       "      <th>0_loan_interest</th>\n",
       "      <td>-0.002669</td>\n",
       "      <td>0.076004</td>\n",
       "      <td>0.689093</td>\n",
       "      <td>1.000000</td>\n",
       "    </tr>\n",
       "  </tbody>\n",
       "</table>\n",
       "</div>"
      ],
      "text/plain": [
       "                     person_income  loan_percent_income  mean_loan_interest  \\\n",
       "person_income             1.000000            -0.250572           -0.000707   \n",
       "loan_percent_income      -0.250572             1.000000            0.114840   \n",
       "mean_loan_interest       -0.000707             0.114840            1.000000   \n",
       "0_loan_interest          -0.002669             0.076004            0.689093   \n",
       "\n",
       "                     0_loan_interest  \n",
       "person_income              -0.002669  \n",
       "loan_percent_income         0.076004  \n",
       "mean_loan_interest          0.689093  \n",
       "0_loan_interest             1.000000  "
      ]
     },
     "execution_count": 20,
     "metadata": {},
     "output_type": "execute_result"
    }
   ],
   "source": [
    "#First we need to check the correlation between the numerical variables of the model. In the logistic regression we can't \n",
    "\n",
    "new_data2= new_data.drop(['person_age','person_emp_length','loan_intent','loan_int_rate','loan_status','loan_amnt','cb_person_cred_hist_length'], axis=1)\n",
    "\n",
    "new_data2.corr()\n",
    "#The correlation between the loan_percent_income and the person_income is -0.25. We consider the range [-1,-0.5] U [0.5,1] the intervals to determine if a variable should be removed from the model."
   ]
  },
  {
   "cell_type": "markdown",
   "metadata": {
    "slideshow": {
     "slide_type": "slide"
    }
   },
   "source": [
    "# 5.1.1 Model"
   ]
  },
  {
   "cell_type": "code",
   "execution_count": 22,
   "metadata": {
    "slideshow": {
     "slide_type": "subslide"
    }
   },
   "outputs": [
    {
     "name": "stdout",
     "output_type": "stream",
     "text": [
      "Optimization terminated successfully.\n",
      "         Current function value: 0.398270\n",
      "         Iterations 8\n",
      "                           Logit Regression Results                           \n",
      "==============================================================================\n",
      "Dep. Variable:                y_train   No. Observations:                26064\n",
      "Model:                          Logit   Df Residuals:                    26051\n",
      "Method:                           MLE   Df Model:                           12\n",
      "Date:                Mon, 21 Aug 2023   Pseudo R-squ.:                  0.2391\n",
      "Time:                        14:30:22   Log-Likelihood:                -10381.\n",
      "converged:                       True   LL-Null:                       -13643.\n",
      "Covariance Type:            nonrobust   LLR p-value:                     0.000\n",
      "==================================================================================================\n",
      "                                     coef    std err          z      P>|z|      [0.025      0.975]\n",
      "--------------------------------------------------------------------------------------------------\n",
      "Intercept                         -1.6070      0.119    -13.499      0.000      -1.840      -1.374\n",
      "person_home_ownership[T.OTHER]     0.7789      0.292      2.665      0.008       0.206       1.352\n",
      "person_home_ownership[T.OWN]      -1.1868      0.098    -12.088      0.000      -1.379      -0.994\n",
      "person_home_ownership[T.RENT]      0.8205      0.041     20.108      0.000       0.741       0.900\n",
      "loan_grade[T.B]                    0.3556      0.065      5.488      0.000       0.229       0.483\n",
      "loan_grade[T.C]                    0.5447      0.093      5.851      0.000       0.362       0.727\n",
      "loan_grade[T.D]                    2.5013      0.115     21.828      0.000       2.277       2.726\n",
      "loan_grade[T.E]                    2.7774      0.151     18.428      0.000       2.482       3.073\n",
      "loan_grade[T.F]                    3.4274      0.232     14.752      0.000       2.972       3.883\n",
      "loan_grade[T.G]                    7.3601      1.154      6.375      0.000       5.097       9.623\n",
      "cb_person_default_on_file[T.Y]    -0.0341      0.052     -0.659      0.510      -0.136       0.067\n",
      "person_income                  -2.181e-05   7.21e-07    -30.254      0.000   -2.32e-05   -2.04e-05\n",
      "mean_loan_interest                 0.0320      0.013      2.402      0.016       0.006       0.058\n",
      "==================================================================================================\n"
     ]
    }
   ],
   "source": [
    "model_log =smf.logit('y_train ~ person_income + person_home_ownership + loan_grade+ mean_loan_interest  + cb_person_default_on_file', data = new_data).fit() \n",
    "print(model_log.summary())"
   ]
  },
  {
   "cell_type": "markdown",
   "metadata": {
    "slideshow": {
     "slide_type": "slide"
    }
   },
   "source": [
    "# 5.1.2 Performance of the model"
   ]
  },
  {
   "cell_type": "code",
   "execution_count": 34,
   "metadata": {
    "slideshow": {
     "slide_type": "subslide"
    }
   },
   "outputs": [
    {
     "name": "stdout",
     "output_type": "stream",
     "text": [
      "0.8131041890440387\n"
     ]
    },
    {
     "name": "stderr",
     "output_type": "stream",
     "text": [
      "/mnt/anaconda/lib/python3.7/site-packages/ipykernel_launcher.py:6: SettingWithCopyWarning: \n",
      "A value is trying to be set on a copy of a slice from a DataFrame.\n",
      "Try using .loc[row_indexer,col_indexer] = value instead\n",
      "\n",
      "See the caveats in the documentation: https://pandas.pydata.org/pandas-docs/stable/user_guide/indexing.html#returning-a-view-versus-a-copy\n",
      "  \n"
     ]
    },
    {
     "data": {
      "text/plain": [
       "array([[4475,  597],\n",
       "       [ 621,  824]])"
      ]
     },
     "execution_count": 34,
     "metadata": {},
     "output_type": "execute_result"
    }
   ],
   "source": [
    "#test sample. Perform of the model\n",
    "\n",
    "X_test2 = X_test\n",
    "X_test2['mean_loan_interest'] = np.where(\n",
    "X_test2['loan_int_rate'].isnull, \n",
    "X_test2[\"loan_int_rate\"].fillna(value=X_test2[\"loan_int_rate\"].mean()),   X_test2['loan_int_rate'])\n",
    "\n",
    "y_pred_test = model_log.predict(X_test2)\n",
    "y_comp = pd.concat([y_test,y_pred_test],axis=1)\n",
    "y_comp.columns = ['y_test','y_pred_test']\n",
    "y_comp.head()\n",
    "\n",
    "#P = 0.3157\n",
    "y_comp['y_pred_test_final'] = np.where(\n",
    "y_comp['y_pred_test']< p, 0, 1)\n",
    "y_comp.head()\n",
    "#Metrics to evaluate the accuracy in the test sample.\n",
    "accuracy = accuracy_score(y_comp['y_test'],y_comp['y_pred_test_final'])\n",
    "print(accuracy)\n",
    "confusion_matrix(y_comp['y_test'],y_comp['y_pred_test_final'])\n",
    "\n",
    "#Our model predicts correctly the 81.31% of the cases on the test sample, this mean that we can determine if a costumer is going to be defaulter or non defaulter with a likelyness of 81.31%.\n",
    "\n",
    "\n"
   ]
  },
  {
   "cell_type": "markdown",
   "metadata": {
    "slideshow": {
     "slide_type": "slide"
    }
   },
   "source": [
    "# 5.2 XGBOOST"
   ]
  },
  {
   "cell_type": "code",
   "execution_count": 56,
   "metadata": {
    "slideshow": {
     "slide_type": "slide"
    }
   },
   "outputs": [
    {
     "data": {
      "text/html": [
       "<div>\n",
       "<style scoped>\n",
       "    .dataframe tbody tr th:only-of-type {\n",
       "        vertical-align: middle;\n",
       "    }\n",
       "\n",
       "    .dataframe tbody tr th {\n",
       "        vertical-align: top;\n",
       "    }\n",
       "\n",
       "    .dataframe thead th {\n",
       "        text-align: right;\n",
       "    }\n",
       "</style>\n",
       "<table border=\"1\" class=\"dataframe\">\n",
       "  <thead>\n",
       "    <tr style=\"text-align: right;\">\n",
       "      <th></th>\n",
       "      <th>person_income</th>\n",
       "      <th>loan_int_rate</th>\n",
       "      <th>loan_percent_income</th>\n",
       "    </tr>\n",
       "  </thead>\n",
       "  <tbody>\n",
       "    <tr>\n",
       "      <th>person_income</th>\n",
       "      <td>1.000000</td>\n",
       "      <td>-0.000743</td>\n",
       "      <td>-0.250572</td>\n",
       "    </tr>\n",
       "    <tr>\n",
       "      <th>loan_int_rate</th>\n",
       "      <td>-0.000743</td>\n",
       "      <td>1.000000</td>\n",
       "      <td>0.120597</td>\n",
       "    </tr>\n",
       "    <tr>\n",
       "      <th>loan_percent_income</th>\n",
       "      <td>-0.250572</td>\n",
       "      <td>0.120597</td>\n",
       "      <td>1.000000</td>\n",
       "    </tr>\n",
       "  </tbody>\n",
       "</table>\n",
       "</div>"
      ],
      "text/plain": [
       "                     person_income  loan_int_rate  loan_percent_income\n",
       "person_income             1.000000      -0.000743            -0.250572\n",
       "loan_int_rate            -0.000743       1.000000             0.120597\n",
       "loan_percent_income      -0.250572       0.120597             1.000000"
      ]
     },
     "execution_count": 56,
     "metadata": {},
     "output_type": "execute_result"
    }
   ],
   "source": [
    "#First we need to check the correlation between the numerical variables of the model\n",
    "\n",
    "X_train2=X_train.drop(['person_age','person_emp_length','loan_intent','loan_amnt','cb_person_cred_hist_length','mean_loan_interest','0_loan_interest'], axis=1)\n",
    "\n",
    "X_train2.corr() \n",
    "#The correlation between the loan_percent_income and the person_income is -0.25. We consider the range [-1,-0.5] U [0.5,1] the intervals to determine if a variable should be removed from the model."
   ]
  },
  {
   "cell_type": "code",
   "execution_count": 68,
   "metadata": {},
   "outputs": [],
   "source": [
    "#we need to convert all the object Dtype to Categorical type\n",
    "\n",
    "numerical_cols1 = [numname for numname in X_train2.columns if X_train2[numname].dtype in ['int64', 'float64']]\n",
    "\n",
    "#preprocessing\n",
    "numerical_transformer = SimpleImputer(strategy='constant')\n",
    "\n",
    "categorical_cols = [catname for catname in X_train2.columns if X_train2[catname].nunique() < 10 and \n",
    "                        X_train2[catname].dtype == \"object\"]\n",
    "\n",
    "# Select numerical columns\n",
    "\n",
    "# Preprocessing for categorical data\n",
    "categorical_transformer = Pipeline(steps=[\n",
    "    ('imputer', SimpleImputer(strategy='most_frequent')),\n",
    "    ('onehot', OneHotEncoder(handle_unknown='ignore'))\n",
    "])\n",
    "\n",
    "\n",
    "# Bundle preprocessing for numerical and categorical data\n",
    "preprocessor = ColumnTransformer(\n",
    "    transformers=[\n",
    "        ('num', numerical_transformer, numerical_cols1),\n",
    "        ('cat', categorical_transformer, categorical_cols)\n",
    "    ])"
   ]
  },
  {
   "cell_type": "markdown",
   "metadata": {
    "slideshow": {
     "slide_type": "slide"
    }
   },
   "source": [
    "# 5.2.1 Model"
   ]
  },
  {
   "cell_type": "code",
   "execution_count": 76,
   "metadata": {
    "slideshow": {
     "slide_type": "subslide"
    }
   },
   "outputs": [
    {
     "name": "stdout",
     "output_type": "stream",
     "text": [
      "MAE score:\n",
      " 0.8969459505495662\n"
     ]
    }
   ],
   "source": [
    "#feature selection\n",
    "selection = SelectPercentile(chi2, percentile= 80)\n",
    "#model\n",
    "model  = XGBClassifier(learning_rate = 0.05)\n",
    "#pipeline \n",
    "mypipeline = Pipeline(steps = [(\"preprocessor\", preprocessor),\n",
    "                               (\"selection\", selection),\n",
    "                               ('model', model)\n",
    "                              ])\n",
    "\n",
    "\n",
    "scores = cross_val_score(mypipeline, X_train2, y_train,\n",
    "                              cv=5,\n",
    "                              scoring=\"accuracy\")\n",
    "\n",
    "print(\"MAE score:\\n\", scores.mean())\n",
    "\n"
   ]
  },
  {
   "cell_type": "markdown",
   "metadata": {
    "slideshow": {
     "slide_type": "slide"
    }
   },
   "source": [
    "# 5.2.2 Performance of the model"
   ]
  },
  {
   "cell_type": "code",
   "execution_count": 78,
   "metadata": {
    "slideshow": {
     "slide_type": "subslide"
    }
   },
   "outputs": [
    {
     "name": "stdout",
     "output_type": "stream",
     "text": [
      "MAE score:\n",
      " 0.894734308273969\n"
     ]
    }
   ],
   "source": [
    "#perform of the model\n",
    "X_test2 = X_test\n",
    "\n",
    "#we need to convert all the object Dtype to Categorical type\n",
    "\n",
    "numerical_cols1 = [numname for numname in X_test2.columns if X_test2[numname].dtype in ['int64', 'float64']]\n",
    "\n",
    "#preprocessing\n",
    "numerical_transformer = SimpleImputer(strategy='constant')\n",
    "\n",
    "categorical_cols = [catname for catname in X_train2.columns if X_train2[catname].nunique() < 10 and \n",
    "                        X_train2[catname].dtype == \"object\"]\n",
    "\n",
    "# Select numerical columns\n",
    "\n",
    "# Preprocessing for categorical data\n",
    "categorical_transformer = Pipeline(steps=[\n",
    "    ('imputer', SimpleImputer(strategy='most_frequent')),\n",
    "    ('onehot', OneHotEncoder(handle_unknown='ignore'))\n",
    "])\n",
    "\n",
    "\n",
    "# Bundle preprocessing for numerical and categorical data\n",
    "preprocessor = ColumnTransformer(\n",
    "    transformers=[\n",
    "        ('num', numerical_transformer, numerical_cols1),\n",
    "        ('cat', categorical_transformer, categorical_cols)\n",
    "    ])\n",
    "\n",
    "scores = cross_val_score(mypipeline, X_test2, y_test,\n",
    "                              cv=5,\n",
    "                              scoring=\"accuracy\")\n",
    "\n",
    "print(\"MAE score:\\n\", scores.mean())\n"
   ]
  }
 ],
 "metadata": {
  "celltoolbar": "Slideshow",
  "kernelspec": {
   "display_name": "Python 3",
   "language": "python",
   "name": "python3"
  },
  "language_info": {
   "codemirror_mode": {
    "name": "ipython",
    "version": 3
   },
   "file_extension": ".py",
   "mimetype": "text/x-python",
   "name": "python",
   "nbconvert_exporter": "python",
   "pygments_lexer": "ipython3",
   "version": "3.7.4"
  }
 },
 "nbformat": 4,
 "nbformat_minor": 2
}
